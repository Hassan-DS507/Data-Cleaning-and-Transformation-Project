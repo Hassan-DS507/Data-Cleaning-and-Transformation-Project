{
 "cells": [
  {
   "cell_type": "markdown",
   "id": "b364b808",
   "metadata": {},
   "source": [
    "# Employee and Sales Data Cleaning & Analysis\n",
    "This Jupyter Notebook cleans and analyzes employee and sales datasets."
   ]
  },
  {
   "cell_type": "code",
   "execution_count": 22,
   "id": "e30efa7b",
   "metadata": {},
   "outputs": [],
   "source": [
    "import pandas as pd\n",
    "import numpy as np\n",
    "from datetime import datetime"
   ]
  },
  {
   "cell_type": "markdown",
   "id": "f6caddc3",
   "metadata": {},
   "source": [
    "## Load the Datasets"
   ]
  },
  {
   "cell_type": "code",
   "execution_count": 24,
   "id": "e2b25823",
   "metadata": {},
   "outputs": [],
   "source": [
    "employee_df = pd.read_csv(\"D:/Data Science/Data Science Bootcamp 2025/Pandas_project/employee_data_with_issues.csv\")\n",
    "sales_df = pd.read_csv(\"D:/Data Science/Data Science Bootcamp 2025/Pandas_project/sales_data_with_issues.csv\")"
   ]
  },
  {
   "cell_type": "markdown",
   "id": "851dfd89",
   "metadata": {},
   "source": [
    "## 1️⃣ Check for Missing Values"
   ]
  },
  {
   "cell_type": "code",
   "execution_count": 26,
   "id": "1ec99830",
   "metadata": {},
   "outputs": [
    {
     "name": "stdout",
     "output_type": "stream",
     "text": [
      "Missing Values in Employee Data:\n",
      "Employee_ID           0\n",
      "Name                  1\n",
      "Date_of_Birth         1\n",
      "Gender                0\n",
      "Job                   2\n",
      "Salary                1\n",
      "Date_of_Joining       1\n",
      "Performance_Rating    1\n",
      "dtype: int64\n",
      "\n",
      "Missing Values in Sales Data:\n",
      "Sale_ID          0\n",
      "Customer_Name    1\n",
      "Product          1\n",
      "Quantity         1\n",
      "Price            0\n",
      "Sale_Date        1\n",
      "Region           1\n",
      "Employee_ID      0\n",
      "dtype: int64\n"
     ]
    }
   ],
   "source": [
    "print(\"Missing Values in Employee Data:\")\n",
    "print(employee_df.isnull().sum())\n",
    "print(\"\\nMissing Values in Sales Data:\")\n",
    "print(sales_df.isnull().sum())"
   ]
  },
  {
   "cell_type": "markdown",
   "id": "d69c2016",
   "metadata": {},
   "source": [
    "## 2️⃣ Handle Missing Values"
   ]
  },
  {
   "cell_type": "code",
   "execution_count": 28,
   "id": "dcfe0d9a",
   "metadata": {},
   "outputs": [],
   "source": [
    "# Fill missing salaries with the median salary if the column exists\n",
    "if 'Salary' in employee_df.columns:\n",
    "    employee_df['Salary'] = employee_df['Salary'].fillna(employee_df['Salary'].median())\n",
    "\n",
    "# Drop columns with more than 50% missing values\n",
    "threshold = len(employee_df) * 0.5\n",
    "employee_df.dropna(thresh=threshold, axis=1, inplace=True)\n",
    "\n",
    "# Fill missing categorical values with mode\n",
    "if \"Name\" in employee_df.columns:\n",
    "    employee_df[\"Name\"] = employee_df[\"Name\"].fillna(employee_df[\"Name\"].mode()[0])\n",
    "if \"Job\" in employee_df.columns:\n",
    "    employee_df[\"Job\"] = employee_df[\"Job\"].fillna(employee_df[\"Job\"].mode()[0])\n",
    "    \n",
    "# Convert Date_of_Birth to datetime if not already\n",
    "if \"Date_of_Birth\" in employee_df.columns:\n",
    "    employee_df[\"Date_of_Birth\"] = pd.to_datetime(employee_df[\"Date_of_Birth\"], errors=\"coerce\")\n",
    "    median_date = employee_df[\"Date_of_Birth\"].median()\n",
    "    employee_df[\"Date_of_Birth\"] = employee_df[\"Date_of_Birth\"].fillna(median_date)\n",
    "    \n",
    "# Fill missing numerical values with mean (or median for Date_of_Birth)\n",
    "if \"Date_of_Birth\" in employee_df.columns:\n",
    "    employee_df[\"Date_of_Birth\"] = employee_df[\"Date_of_Birth\"].fillna(employee_df[\"Date_of_Birth\"].median())\n",
    "\n",
    "if \"Performance_Rating\" in employee_df.columns:\n",
    "    employee_df[\"Performance_Rating\"] = employee_df[\"Performance_Rating\"].fillna(employee_df[\"Performance_Rating\"].mean())\n"
   ]
  },
  {
   "cell_type": "markdown",
   "id": "c2f27b2d",
   "metadata": {},
   "source": [
    "## 3️⃣ Convert Data Types"
   ]
  },
  {
   "cell_type": "code",
   "execution_count": 30,
   "id": "cc7730a0",
   "metadata": {},
   "outputs": [],
   "source": [
    "# Ensure Date columns are in datetime format\n",
    "employee_df[\"Date_of_Birth\"] = pd.to_datetime(employee_df[\"Date_of_Birth\"], errors='coerce')\n",
    "employee_df[\"Date_of_Joining\"] = pd.to_datetime(employee_df[\"Date_of_Joining\"], errors='coerce')\n",
    "\n",
    "# Convert Salary to numeric\n",
    "employee_df[\"Salary\"] = pd.to_numeric(employee_df[\"Salary\"], errors='coerce')"
   ]
  },
  {
   "cell_type": "markdown",
   "id": "8a4dc641",
   "metadata": {},
   "source": [
    "## 4️⃣ Feature Engineering"
   ]
  },
  {
   "cell_type": "code",
   "execution_count": 32,
   "id": "2eb49ded",
   "metadata": {},
   "outputs": [],
   "source": [
    "# Calculate Age\n",
    "employee_df[\"Age\"] = (pd.to_datetime(\"today\") - employee_df[\"Date_of_Birth\"]).dt.days // 365\n",
    "\n",
    "# Create \"Status\" column based on Performance_Rating\n",
    "status_mapping = {\"Excellent\": \"Good\", \"Good\": \"Average\", \"Average\": \"Needs Improvement\"}\n",
    "if 'Performance_Rating' in employee_df.columns:\n",
    "    employee_df['Status'] = employee_df['Performance_Rating'].map(status_mapping)"
   ]
  },
  {
   "cell_type": "markdown",
   "id": "b393ffc3",
   "metadata": {},
   "source": [
    "## 5️⃣ Data Analysis"
   ]
  },
  {
   "cell_type": "code",
   "execution_count": 34,
   "id": "04aeebd2",
   "metadata": {},
   "outputs": [
    {
     "name": "stdout",
     "output_type": "stream",
     "text": [
      "Total Sales by Each Employee:\n",
      "Employee_ID\n",
      "101    2400.0\n",
      "102    4000.0\n",
      "103    1000.0\n",
      "104    -300.0\n",
      "105     200.0\n",
      "106       0.0\n",
      "107    2400.0\n",
      "Name: Total_Sales, dtype: float64\n",
      "Age Distribution:\n",
      "Age\n",
      "24    1\n",
      "29    2\n",
      "31    1\n",
      "32    2\n",
      "34    2\n",
      "36    1\n",
      "38    1\n",
      "Name: count, dtype: int64\n"
     ]
    }
   ],
   "source": [
    "# Check total sales per employee (if applicable)\n",
    "if {'Employee_ID', 'Price', 'Quantity'}.issubset(sales_df.columns):\n",
    "    sales_df['Total_Sales'] = sales_df['Price'] * sales_df['Quantity']\n",
    "    total_sales_by_employee = sales_df.groupby('Employee_ID')['Total_Sales'].sum()\n",
    "    print(\"Total Sales by Each Employee:\")\n",
    "    print(total_sales_by_employee)\n",
    "\n",
    "# Show distribution of employee ages\n",
    "if 'Age' in employee_df.columns:\n",
    "    age_distribution = employee_df['Age'].value_counts().sort_index()\n",
    "    print(\"Age Distribution:\")\n",
    "    print(age_distribution)"
   ]
  },
  {
   "cell_type": "markdown",
   "id": "b3af92ba",
   "metadata": {},
   "source": [
    "## 6️⃣ Save Cleaned Data"
   ]
  },
  {
   "cell_type": "code",
   "execution_count": 36,
   "id": "cc30a899",
   "metadata": {},
   "outputs": [],
   "source": [
    "employee_df.to_csv(\"D:/Data Science/Data Science Bootcamp 2025/Pandas_project/cleaned_employee_data.csv\", index=False)\n",
    "sales_df.to_csv(\"D:/Data Science/Data Science Bootcamp 2025/Pandas_project/cleaned_sales_data.csv\", index=False)"
   ]
  },
  {
   "cell_type": "markdown",
   "id": "b22623d1",
   "metadata": {},
   "source": [
    "## 7️⃣ Merge Employee & Sales Data"
   ]
  },
  {
   "cell_type": "code",
   "execution_count": 38,
   "id": "4fff0371",
   "metadata": {},
   "outputs": [
    {
     "name": "stdout",
     "output_type": "stream",
     "text": [
      "Merged employee-sales data saved successfully.\n",
      "Data cleaning and analysis completed successfully!\n"
     ]
    }
   ],
   "source": [
    "# Merge employee and sales data\n",
    "if 'Employee_ID' in employee_df.columns and 'Employee_ID' in sales_df.columns:\n",
    "    employee_sales = pd.merge(employee_df, sales_df, on=\"Employee_ID\")\n",
    "    employee_sales.to_csv(\"D:/Data Science/Data Science Bootcamp 2025/Pandas_project/employee_sales.csv\", index=False)\n",
    "    print(\"Merged employee-sales data saved successfully.\")\n",
    "\n",
    "print(\"Data cleaning and analysis completed successfully!\")"
   ]
  }
 ],
 "metadata": {
  "kernelspec": {
   "display_name": "Python 3 (ipykernel)",
   "language": "python",
   "name": "python3"
  },
  "language_info": {
   "codemirror_mode": {
    "name": "ipython",
    "version": 3
   },
   "file_extension": ".py",
   "mimetype": "text/x-python",
   "name": "python",
   "nbconvert_exporter": "python",
   "pygments_lexer": "ipython3",
   "version": "3.12.7"
  }
 },
 "nbformat": 4,
 "nbformat_minor": 5
}
